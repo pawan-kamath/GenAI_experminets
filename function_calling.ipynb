{
 "cells": [
  {
   "cell_type": "code",
   "execution_count": 1,
   "id": "5decbfcf",
   "metadata": {},
   "outputs": [],
   "source": [
    "import json\n",
    "import math\n",
    "import os\n",
    "\n",
    "from dotenv import load_dotenv\n",
    "from openai import AzureOpenAI"
   ]
  },
  {
   "cell_type": "code",
   "execution_count": 2,
   "id": "f6b4bb3c",
   "metadata": {},
   "outputs": [
    {
     "data": {
      "text/plain": [
       "False"
      ]
     },
     "execution_count": 2,
     "metadata": {},
     "output_type": "execute_result"
    }
   ],
   "source": [
    "load_dotenv()"
   ]
  },
  {
   "cell_type": "code",
   "execution_count": 3,
   "id": "1a24a85a",
   "metadata": {},
   "outputs": [],
   "source": [
    "def calculate_circle_area(radius):\n",
    "    area = math.pi * radius * radius\n",
    "    print(f\"radius: {radius}, area: {area}\")\n",
    "    return math.pi * radius * radius\n",
    "\n",
    "\n"
   ]
  },
  {
   "cell_type": "code",
   "execution_count": 4,
   "id": "ae3f893e",
   "metadata": {},
   "outputs": [],
   "source": [
    "function_schema = [\n",
    "    {\n",
    "        \"name\": \"func_1\",\n",
    "        \"description\": \"This is what the function does and this is when the function should be called.\",\n",
    "        \"parameters\": {\n",
    "            \"type\": \"object\",\n",
    "            \"properties\": {\n",
    "                \"argument_1\": {\"type\": \"data_type\", \"description\": \"What argument_1 is and its description\"}\n",
    "            },\n",
    "            \"required\": [\"argument_1\"],\n",
    "        },\n",
    "    }\n",
    "]\n",
    "\n",
    "\n"
   ]
  },
  {
   "cell_type": "code",
   "execution_count": 5,
   "id": "e5db309a",
   "metadata": {},
   "outputs": [],
   "source": [
    "def func_1(argument_1):\n",
    "    return argument_1 * 2\n",
    "\n",
    "\n"
   ]
  },
  {
   "cell_type": "code",
   "execution_count": 34,
   "id": "e186cbd1",
   "metadata": {},
   "outputs": [],
   "source": [
    "function_schema = [\n",
    "    {\n",
    "        \"name\": \"calculate_circle_area\",\n",
    "        \"description\": \"Calculate the area of a circle given the radius.\",\n",
    "        \"parameters\": {\n",
    "            \"type\": \"object\",\n",
    "            \"properties\": {\"radius\": {\"type\": \"number\", \"description\": \"The radius of the circle in centimeters.\"}},\n",
    "            \"required\": [\"radius\"],\n",
    "        },\n",
    "    }\n",
    "]\n",
    "\n"
   ]
  },
  {
   "cell_type": "code",
   "execution_count": 36,
   "id": "ed5b57ce",
   "metadata": {},
   "outputs": [],
   "source": [
    "user_message = \"Calculate the area of a circle with a radius of five meters and also calculate the area for radius 20cms.\"\n",
    "\n",
    "client = AzureOpenAI(\n",
    "    api_key=os.getenv(\"OPENAI_API_KEY\"), api_version=\"2024-07-01-preview\", azure_endpoint=os.getenv(\"OPENAI_API_HOST\")\n",
    ")\n",
    "\n",
    "\n"
   ]
  },
  {
   "cell_type": "code",
   "execution_count": 37,
   "id": "cb4fd428",
   "metadata": {},
   "outputs": [],
   "source": [
    "response = client.chat.completions.create(\n",
    "    model=\"gpt-4o-mini\",\n",
    "    messages=[{\"role\": \"user\", \"content\": user_message}],\n",
    "    functions=function_schema,\n",
    "    function_call=\"auto\",\n",
    ")\n",
    "\n"
   ]
  },
  {
   "cell_type": "code",
   "execution_count": 55,
   "id": "f3b916bc",
   "metadata": {},
   "outputs": [],
   "source": [
    "tools = [{\n",
    "        \"type\": \"function\",\n",
    "        \"function\": {\n",
    "            \"name\": \"calculate_circle_area\",\n",
    "            \"description\": \"Calculate the area of a circle given the radius.\",\n",
    "            \"parameters\": {\n",
    "                \"type\": \"object\",\n",
    "                \"properties\": {\"radius\": {\"type\": \"number\", \"description\": \"The radius of the circle in centimeters.\"}},\n",
    "                \"required\": [\"radius\"],\n",
    "            }\n",
    "        }\n",
    "    }]"
   ]
  },
  {
   "cell_type": "code",
   "execution_count": 56,
   "id": "d16ebf40",
   "metadata": {},
   "outputs": [],
   "source": [
    "response = client.chat.completions.create(\n",
    "    model=\"gpt-4o-mini\",\n",
    "    messages=[{\"role\": \"user\", \"content\": user_message}],\n",
    "    tools=tools,\n",
    "    tool_choice=\"auto\",\n",
    ")"
   ]
  },
  {
   "cell_type": "code",
   "execution_count": 41,
   "id": "65e9068c",
   "metadata": {},
   "outputs": [
    {
     "data": {
      "text/plain": [
       "ChatCompletion(id='chatcmpl-BxuUIWLOKHsfVnQNTrS0onyhDq4uq', choices=[Choice(finish_reason='tool_calls', index=0, logprobs=None, message=ChatCompletionMessage(content=None, refusal=None, role='assistant', annotations=[], audio=None, function_call=None, tool_calls=[ChatCompletionMessageToolCall(id='call_LmEhylk3gM3E0PWmzP7ceJzs', function=Function(arguments='{\"radius\": 500}', name='calculate_circle_area'), type='function'), ChatCompletionMessageToolCall(id='call_gkKwKfyG4oQXvXDPPz4qjJZR', function=Function(arguments='{\"radius\": 20}', name='calculate_circle_area'), type='function')]), content_filter_results={})], created=1753618190, model='gpt-4o-mini-2024-07-18', object='chat.completion', service_tier=None, system_fingerprint='fp_efad92c60b', usage=CompletionUsage(completion_tokens=47, prompt_tokens=80, total_tokens=127, completion_tokens_details=CompletionTokensDetails(accepted_prediction_tokens=0, audio_tokens=0, reasoning_tokens=0, rejected_prediction_tokens=0), prompt_tokens_details=PromptTokensDetails(audio_tokens=0, cached_tokens=0)), prompt_filter_results=[{'prompt_index': 0, 'content_filter_results': {'hate': {'filtered': False, 'severity': 'safe'}, 'jailbreak': {'filtered': False, 'detected': False}, 'self_harm': {'filtered': False, 'severity': 'safe'}, 'sexual': {'filtered': False, 'severity': 'safe'}, 'violence': {'filtered': False, 'severity': 'safe'}}}])"
      ]
     },
     "execution_count": 41,
     "metadata": {},
     "output_type": "execute_result"
    }
   ],
   "source": [
    "response"
   ]
  },
  {
   "cell_type": "code",
   "execution_count": 30,
   "id": "740820bf",
   "metadata": {},
   "outputs": [
    {
     "name": "stdout",
     "output_type": "stream",
     "text": [
      "ChatCompletion(id='chatcmpl-BxuNrPUYZduCHsecrlFuGfRVqmP3r', choices=[Choice(finish_reason='function_call', index=0, logprobs=None, message=ChatCompletionMessage(content=None, refusal=None, role='assistant', annotations=[], audio=None, function_call=FunctionCall(arguments='{\"radius\":500}', name='calculate_circle_area'), tool_calls=None), content_filter_results={})], created=1753617791, model='gpt-4o-mini-2024-07-18', object='chat.completion', service_tier=None, system_fingerprint='fp_efad92c60b', usage=CompletionUsage(completion_tokens=16, prompt_tokens=80, total_tokens=96, completion_tokens_details=CompletionTokensDetails(accepted_prediction_tokens=0, audio_tokens=0, reasoning_tokens=0, rejected_prediction_tokens=0), prompt_tokens_details=PromptTokensDetails(audio_tokens=0, cached_tokens=0)), prompt_filter_results=[{'prompt_index': 0, 'content_filter_results': {'hate': {'filtered': False, 'severity': 'safe'}, 'jailbreak': {'filtered': False, 'detected': False}, 'self_harm': {'filtered': False, 'severity': 'safe'}, 'sexual': {'filtered': False, 'severity': 'safe'}, 'violence': {'filtered': False, 'severity': 'safe'}}}])\n"
     ]
    }
   ],
   "source": [
    "import pprint\n",
    "pprint.pprint(response, indent=4)"
   ]
  },
  {
   "cell_type": "code",
   "execution_count": 43,
   "id": "90e9ffcc",
   "metadata": {},
   "outputs": [
    {
     "name": "stdout",
     "output_type": "stream",
     "text": [
      "First message ChatCompletionMessage(content=None, refusal=None, role='assistant', annotations=[], audio=None, function_call=None, tool_calls=[ChatCompletionMessageToolCall(id='call_LmEhylk3gM3E0PWmzP7ceJzs', function=Function(arguments='{\"radius\": 500}', name='calculate_circle_area'), type='function'), ChatCompletionMessageToolCall(id='call_gkKwKfyG4oQXvXDPPz4qjJZR', function=Function(arguments='{\"radius\": 20}', name='calculate_circle_area'), type='function')])\n"
     ]
    }
   ],
   "source": [
    "message = response.choices[0].message\n",
    "print(\"First message\", message)\n",
    "\n"
   ]
  },
  {
   "cell_type": "code",
   "execution_count": 60,
   "id": "20786fcd",
   "metadata": {},
   "outputs": [],
   "source": [
    "choices = response.choices"
   ]
  },
  {
   "cell_type": "code",
   "execution_count": 61,
   "id": "1359ac13",
   "metadata": {},
   "outputs": [
    {
     "data": {
      "text/plain": [
       "Choice(finish_reason='tool_calls', index=0, logprobs=None, message=ChatCompletionMessage(content=None, refusal=None, role='assistant', annotations=[], audio=None, function_call=None, tool_calls=[ChatCompletionMessageToolCall(id='call_lOwM7PSMm3OLFjQr8O5Xu9lI', function=Function(arguments='{\"radius\": 500}', name='calculate_circle_area'), type='function'), ChatCompletionMessageToolCall(id='call_IJ1pi19vcn0ozCaVsQ9jNYQQ', function=Function(arguments='{\"radius\": 20}', name='calculate_circle_area'), type='function')]), content_filter_results={})"
      ]
     },
     "execution_count": 61,
     "metadata": {},
     "output_type": "execute_result"
    }
   ],
   "source": [
    "choices[0]"
   ]
  },
  {
   "cell_type": "code",
   "execution_count": 45,
   "id": "a358a6f2",
   "metadata": {},
   "outputs": [],
   "source": [
    "message.function_call"
   ]
  },
  {
   "cell_type": "code",
   "execution_count": 62,
   "id": "dc84e212",
   "metadata": {},
   "outputs": [],
   "source": [
    "input_message = [\n",
    "    {\"role\": \"user\", \"content\": user_message},\n",
    "    choices[0].message\n",
    "]"
   ]
  },
  {
   "cell_type": "code",
   "execution_count": 63,
   "id": "becb9364",
   "metadata": {},
   "outputs": [
    {
     "name": "stdout",
     "output_type": "stream",
     "text": [
      "radius: 500, area: 785398.1633974483\n",
      "radius: 20, area: 1256.6370614359173\n"
     ]
    }
   ],
   "source": [
    "message = choices[0].message\n",
    "if hasattr(message, \"tool_calls\"):\n",
    "    for tool in message.tool_calls:\n",
    "        call_id = tool.id\n",
    "        function_name = tool.function.name\n",
    "        arguments = json.loads(tool.function.arguments)\n",
    "        if function_name == \"calculate_circle_area\":\n",
    "            radius = arguments.get(\"radius\")\n",
    "            area = calculate_circle_area(radius)\n",
    "\n",
    "            # Convert the result to a string to send back to the model\n",
    "            function_response = str(area)\n",
    "\n",
    "            input_message.append(\n",
    "                {\n",
    "                    \"role\":\"tool\",\n",
    "                    \"tool_call_id\": tool.id,\n",
    "                    \"content\": function_response\n",
    "                }\n",
    "            )\n",
    "            \n",
    "            # Send the result back to the model\n",
    "               \n"
   ]
  },
  {
   "cell_type": "code",
   "execution_count": 64,
   "id": "f8f6143a",
   "metadata": {},
   "outputs": [
    {
     "data": {
      "text/plain": [
       "[{'role': 'user',\n",
       "  'content': 'Calculate the area of a circle with a radius of five meters and also calculate the area for radius 20cms.'},\n",
       " ChatCompletionMessage(content=None, refusal=None, role='assistant', annotations=[], audio=None, function_call=None, tool_calls=[ChatCompletionMessageToolCall(id='call_lOwM7PSMm3OLFjQr8O5Xu9lI', function=Function(arguments='{\"radius\": 500}', name='calculate_circle_area'), type='function'), ChatCompletionMessageToolCall(id='call_IJ1pi19vcn0ozCaVsQ9jNYQQ', function=Function(arguments='{\"radius\": 20}', name='calculate_circle_area'), type='function')]),\n",
       " {'role': 'tool',\n",
       "  'tool_call_id': 'call_lOwM7PSMm3OLFjQr8O5Xu9lI',\n",
       "  'content': '785398.1633974483'},\n",
       " {'role': 'tool',\n",
       "  'tool_call_id': 'call_IJ1pi19vcn0ozCaVsQ9jNYQQ',\n",
       "  'content': '1256.6370614359173'}]"
      ]
     },
     "execution_count": 64,
     "metadata": {},
     "output_type": "execute_result"
    }
   ],
   "source": [
    "input_message"
   ]
  },
  {
   "cell_type": "code",
   "execution_count": 65,
   "id": "2f5b093e",
   "metadata": {},
   "outputs": [
    {
     "name": "stdout",
     "output_type": "stream",
     "text": [
      "Message: ChatCompletionMessage(content=None, refusal=None, role='assistant', annotations=[], audio=None, function_call=None, tool_calls=[ChatCompletionMessageToolCall(id='call_lOwM7PSMm3OLFjQr8O5Xu9lI', function=Function(arguments='{\"radius\": 500}', name='calculate_circle_area'), type='function'), ChatCompletionMessageToolCall(id='call_IJ1pi19vcn0ozCaVsQ9jNYQQ', function=Function(arguments='{\"radius\": 20}', name='calculate_circle_area'), type='function')])\n",
      "final_answer: The area of the circle with a radius of 5 meters (500 cm) is approximately 785398.16 cm², and the area of the circle with a radius of 20 cm is approximately 1256.64 cm².\n"
     ]
    }
   ],
   "source": [
    "second_response = client.chat.completions.create(\n",
    "                model=\"gpt-4o-mini\",\n",
    "                messages=input_message,\n",
    "                tools=tools,\n",
    "                tool_choice = \"auto\"\n",
    "            )\n",
    "final_answer = second_response.choices[0].message.content\n",
    "print(\"Message:\", message)\n",
    "print(\"final_answer:\", final_answer)"
   ]
  },
  {
   "cell_type": "code",
   "execution_count": null,
   "id": "5cc0aa8c",
   "metadata": {},
   "outputs": [],
   "source": []
  },
  {
   "cell_type": "code",
   "execution_count": 20,
   "id": "252c4d8d",
   "metadata": {},
   "outputs": [
    {
     "data": {
      "text/plain": [
       "[{'role': 'user',\n",
       "  'content': 'Calculate the area of a circle with a radius of five meters.'},\n",
       " ChatCompletionMessage(content=None, refusal=None, role='assistant', annotations=[], audio=None, function_call=FunctionCall(arguments='{\"radius\":500}', name='calculate_circle_area'), tool_calls=None),\n",
       " {'role': 'function',\n",
       "  'name': 'calculate_circle_area',\n",
       "  'content': '785398.1633974483'}]"
      ]
     },
     "execution_count": 20,
     "metadata": {},
     "output_type": "execute_result"
    }
   ],
   "source": [
    "input_message"
   ]
  },
  {
   "cell_type": "code",
   "execution_count": 21,
   "id": "e95966dc",
   "metadata": {},
   "outputs": [
    {
     "data": {
      "text/plain": [
       "'The area of a circle with a radius of five meters is approximately \\\\( 78.54 \\\\) square meters. \\n\\nThe formula for the area \\\\( A \\\\) of a circle is given by:\\n\\n\\\\[\\nA = \\\\pi r^2\\n\\\\]\\n\\nSubstituting the radius \\\\( r = 5 \\\\) meters:\\n\\n\\\\[\\nA = \\\\pi (5)^2 = \\\\pi \\\\cdot 25 \\\\approx 78.54 \\\\, \\\\text{m}^2\\n\\\\]'"
      ]
     },
     "execution_count": 21,
     "metadata": {},
     "output_type": "execute_result"
    }
   ],
   "source": [
    "final_answer"
   ]
  },
  {
   "cell_type": "code",
   "execution_count": null,
   "id": "01c05358",
   "metadata": {},
   "outputs": [],
   "source": []
  }
 ],
 "metadata": {
  "kernelspec": {
   "display_name": "venv_processor",
   "language": "python",
   "name": "python3"
  },
  "language_info": {
   "codemirror_mode": {
    "name": "ipython",
    "version": 3
   },
   "file_extension": ".py",
   "mimetype": "text/x-python",
   "name": "python",
   "nbconvert_exporter": "python",
   "pygments_lexer": "ipython3",
   "version": "3.10.12"
  }
 },
 "nbformat": 4,
 "nbformat_minor": 5
}
