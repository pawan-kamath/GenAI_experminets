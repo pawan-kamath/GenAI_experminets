{
 "cells": [
  {
   "cell_type": "code",
   "execution_count": null,
   "metadata": {},
   "outputs": [],
   "source": [
    "# Create a function which extracts metadata key and value from a given query:\n",
    "# provided `query`: str and `avaialble metadata to look for`: list[str]"
   ]
  },
  {
   "cell_type": "code",
   "execution_count": null,
   "metadata": {},
   "outputs": [],
   "source": [
    "import os  \n",
    "from openai import AzureOpenAI \n",
    "import json\n",
    "from dotenv import load_dotenv\n",
    "\n",
    "load_dotenv()"
   ]
  },
  {
   "cell_type": "code",
   "execution_count": null,
   "metadata": {},
   "outputs": [],
   "source": [
    "client = AzureOpenAI(\n",
    "    api_key=os.getenv(\"OPENAI_API_KEY\"),  \n",
    "    api_version=\"2024-07-01-preview\",\n",
    "    azure_endpoint=os.getenv(\"OPENAI_API_HOST\")\n",
    ")"
   ]
  },
  {
   "cell_type": "code",
   "execution_count": null,
   "metadata": {},
   "outputs": [],
   "source": [
    "def construct_function_schema(available_metadata, available_metadata_description):  \n",
    "    properties = {}  \n",
    "    for key in available_metadata:  \n",
    "        properties[key] = {  \n",
    "            \"type\": \"string\",  \n",
    "            \"description\": available_metadata_description.get(key, \"\")  \n",
    "        }  \n",
    "    function_schema = [  \n",
    "        {  \n",
    "            \"type\": \"function\",\n",
    "            \"function\": {\n",
    "                \"name\": \"extract_metadata\",  \n",
    "                \"description\": \"Extract metadata from the user's query based on the available metadata keys and descriptions. Return the extracted metadata as key-value pairs.\",  \n",
    "                \"parameters\": {  \n",
    "                    \"type\": \"object\",  \n",
    "                    \"properties\": properties,  \n",
    "                    \"required\": []\n",
    "                }  \n",
    "            }\n",
    "        }  \n",
    "    ]  \n",
    "    return function_schema "
   ]
  },
  {
   "cell_type": "code",
   "execution_count": null,
   "metadata": {},
   "outputs": [],
   "source": [
    "def process_query(query, available_metadata, available_metadata_description):  \n",
    "    # Construct the system prompt including available metadata and descriptions  \n",
    "    system_message = (  \n",
    "        \"You are an assistant that extracts metadata from user queries based on available metadata keys and their descriptions.\\n\"  \n",
    "        \"When the user provides a query, identify any metadata present that matches the available metadata keys and return it by calling the 'extract_metadata' function. \"  \n",
    "        \"If the query does not have any metadata from the list available, then just respond to the query by being a helpful assistant.\\n\" \n",
    "        \"Available metadata keys and descriptions:\\n\"  \n",
    "    )  \n",
    "    for key in available_metadata:    \n",
    "        description = available_metadata_description.get(key, \"\")    \n",
    "        system_message += f\"- {key}: {description}\\n\"\n",
    "  \n",
    "    # Prepare the messages  \n",
    "    messages = [  \n",
    "        {\"role\": \"system\", \"content\": system_message},  \n",
    "        {\"role\": \"user\", \"content\": query}  \n",
    "    ]  \n",
    "    \n",
    "    # Construct the function schema dynamically  \n",
    "    function_schema = construct_function_schema(available_metadata, available_metadata_description) \n",
    "  \n",
    "    # Call the OpenAI ChatCompletion API with function calling  \n",
    "    response = client.chat.completions.create(  \n",
    "        model=\"gpt-4o-mini\",  # or \"gpt-4-0613\" if you have access  \n",
    "        messages=messages,  \n",
    "        tools=function_schema,  \n",
    "        tool_choice=\"auto\", \n",
    "    )  \n",
    "    # print(response)\n",
    "    # Extract the assistant's response  \n",
    "    message = response.choices[0].message\n",
    "  \n",
    "    if message.tool_calls:  \n",
    "        # The assistant wants to call a function  \n",
    "        function_name = message.tool_calls[0].function.name \n",
    "        if function_name == \"extract_metadata\":  \n",
    "            # Parse the function call arguments  \n",
    "            function_args = json.loads(message.tool_calls[0].function.arguments)   \n",
    "            return function_args  \n",
    "    else:  \n",
    "        # No function call, return the assistant's reply  \n",
    "        return message.content\n",
    "  "
   ]
  },
  {
   "cell_type": "code",
   "execution_count": null,
   "metadata": {},
   "outputs": [],
   "source": [
    "# Example 1\n",
    "\n",
    "query = \"Find me books by George Orwell published after 1945\"  \n",
    "\n",
    "available_metadata_description = {  \n",
    "    \"author\": \"The name of the person who wrote the book. Example: 'George Orwell', 'J.K. Rowling'\",  \n",
    "    \"publication_year\": \"The year the book was published. Example: '1945', '1997'\",\n",
    "    \"genre\": \"The category or type of the book. Example: 'Dystopian', 'Fantasy', 'Sci-Fi'\" \n",
    "} \n",
    "\n",
    "available_metadata = list(available_metadata_description.keys())\n",
    "\n",
    "result = process_query(query, available_metadata, available_metadata_description)  \n",
    "print(result)  "
   ]
  },
  {
   "cell_type": "code",
   "execution_count": null,
   "metadata": {},
   "outputs": [],
   "source": []
  },
  {
   "cell_type": "code",
   "execution_count": null,
   "metadata": {},
   "outputs": [],
   "source": [
    "# Example 2: Problem Ticket querying for metadata\n",
    "\n",
    "# query = \"Find me books by George Orwell published after 1945 that are Romantic.\"  \n",
    "query = \"What is the workaround for PRB0000045393?\"\n",
    "# query = \"What are the problem tickets with the category Software at PGAT?\"\n",
    "\n",
    "\n",
    "available_metadata_description = {    \n",
    "    \"category\": (  \n",
    "        \"The category or type of the problem ticket. Possible values include 'People', 'Partners', 'Process', and 'Software'. \"  \n",
    "        \"For example, if the ticket is related to software issues, the category would be 'Software'.\"  \n",
    "    ),  \n",
    "    \"problem_number\": (  \n",
    "        \"An alphanumeric identifier for the problem ticket that always starts with 'PRB' followed by a sequence of digits. \"  \n",
    "        \"It can also be referred to as a ticket number, problem ticket, or problem number. \"  \n",
    "        \"Examples include 'PRB0000045393', 'PRB0000123456'. These identifiers are used to track issues within the system and are not personal data.\"  \n",
    "    ),  \n",
    "    \"location\": (  \n",
    "        \"The location associated with the problem ticket, typically a factory where the issue originated. \"  \n",
    "        \"The list of locations is non-exhaustive with some examples like: 'ALC4/WS Factory', 'CDAT Factory', 'D1 Factory', 'PGAT Factory' \"  \n",
    "        \"For example, a ticket generated at the D1 Factory would have the location 'D1 Factory'.\"  \n",
    "    )  \n",
    "}  \n",
    "\n",
    "available_metadata_prob = list(available_metadata_description.keys())\n",
    "\n",
    "result = process_query(query, available_metadata_prob, available_metadata_description)  \n",
    "print(result)  "
   ]
  },
  {
   "cell_type": "code",
   "execution_count": null,
   "metadata": {},
   "outputs": [],
   "source": []
  }
 ],
 "metadata": {
  "kernelspec": {
   "display_name": ".venv",
   "language": "python",
   "name": "python3"
  },
  "language_info": {
   "codemirror_mode": {
    "name": "ipython",
    "version": 3
   },
   "file_extension": ".py",
   "mimetype": "text/x-python",
   "name": "python",
   "nbconvert_exporter": "python",
   "pygments_lexer": "ipython3",
   "version": "3.12.8"
  }
 },
 "nbformat": 4,
 "nbformat_minor": 2
}
