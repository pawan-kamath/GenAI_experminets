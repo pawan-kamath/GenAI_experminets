{
 "cells": [
  {
   "cell_type": "markdown",
   "id": "0",
   "metadata": {},
   "source": [
    "# Agents that can code with skills\n",
    "\n",
    "We are now going to start using chatGPT4o because it can code better than chatGPT3.5. But remember that chatGPT4o is more expensive per token than chatGPT3.5 so keep an eye on your usage here: https://platform.openai.com/usage\n",
    "\n",
    "> **From now on, we will not execute the code in the Jupyter notebook, this is because of two reasons:**\n",
    "> 1. We are going to ask our agents to write code and execute it for us. Executing code by an agent inside a Jupyter notebook can be tricky and requires additional configuration. It also depends of the OS being used. To avoid dealing with these issues, we will simply move on to executing scripts instead of notebooks\n",
    "> 2. We are going to start preparing our code to be able to deploy it on the cloud later, so that we can share a link towards our Agents based app. It is not possible to deploy notebooks, so we are going to start using scripts to get ready for that.\n",
    "> We are still going to use notebooks to describe and explain our code, but do not execute the code here, instead use the script version of this code.\n",
    "\n",
    "In this section, we are going to re-explore the previous exerise, but this time we are going to give our agents some skills that will help them accomplish some of the tasks. Skills are basically python functions that can accomplish certain things that we have tested and that we already know work."
   ]
  },
  {
   "cell_type": "code",
   "execution_count": null,
   "id": "1",
   "metadata": {},
   "outputs": [],
   "source": [
    "import pprint\n",
    "from dotenv import load_dotenv\n",
    "load_dotenv()\n",
    "import os\n",
    "# We'll always have to start by creating a llm_config object to configure our agents\n",
    "llm_config = {\n",
    "    \"model\": \"gpt-4o-mini\",\n",
    "    \"api_type\": \"azure\",\n",
    "    \"api_key\": os.getenv(\"OPENAI_API_KEY\"),\n",
    "    \"base_url\": os.getenv(\"OPENAI_API_HOST\"),\n",
    "    \"api_version\": \"2024-07-01-preview\"\n",
    "  }"
   ]
  },
  {
   "cell_type": "markdown",
   "id": "2",
   "metadata": {},
   "source": [
    "## Defining our skills\n",
    "\n",
    "We are going to start by defining the skills we'd like to give our Agents. Skills are python functions that must be defined with a **docstring**. A **docstring** is a rigorous way to comment and document functions. \n",
    "\n",
    "### Docstrings\n",
    "\n",
    "Docstrings in Python are special strings that serve as comments for different aspects of a Python program. They are used to document Python modules, functions, classes, and methods.\n",
    "\n",
    "Here’s an example of how you might use a docstring:\n",
    "```python\n",
    "def add_numbers(a, b):\n",
    "    \"\"\"\n",
    "    This function adds two numbers and returns the result.\n",
    "\n",
    "    Parameters:\n",
    "    a (int): The first number to add.\n",
    "    b (int): The second number to add.\n",
    "\n",
    "    Returns:\n",
    "    int: The sum of a and b.\n",
    "    \"\"\"\n",
    "    return a + b\n",
    "```\n",
    "\n",
    "Here, the docstring is enclosed in triple quotes and provides a brief description of the function, its parameters, and its return value. This information can later be accessed using the help() function attribute in Python, which can be very useful for understanding how to use the function properly. Docstrings are how our agents will know how to use and what each function is for.\n",
    "\n",
    "### Get stock prices\n",
    "\n",
    "This time, we are going to define and give to our agents a skill or function that can retrieve stock prices using `yfinance`. Let's define with an adequate docstring:"
   ]
  },
  {
   "cell_type": "code",
   "execution_count": null,
   "id": "3",
   "metadata": {},
   "outputs": [],
   "source": [
    "# With user-defined functions\n",
    "def get_stock_prices(stock_symbols, start_date, end_date):\n",
    "    \"\"\"Get the stock prices for the given stock symbols between\n",
    "    the start and end dates.\n",
    "\n",
    "    Args:\n",
    "        stock_symbols (str or list): The stock symbols to get the\n",
    "        prices for.\n",
    "        start_date (str): The start date in the format \n",
    "        'YYYY-MM-DD'.\n",
    "        end_date (str): The end date in the format 'YYYY-MM-DD'.\n",
    "    \n",
    "    Returns:\n",
    "        pandas.DataFrame: The stock prices for the given stock\n",
    "        symbols indexed by date, with one column per stock \n",
    "        symbol.\n",
    "    \"\"\"\n",
    "    import yfinance\n",
    "\n",
    "    stock_data = yfinance.download(\n",
    "        stock_symbols, start=start_date, end=end_date\n",
    "    )\n",
    "    return stock_data.get(\"Close\")"
   ]
  },
  {
   "cell_type": "markdown",
   "id": "4",
   "metadata": {},
   "source": [
    "### Plot stock prices\n",
    "\n",
    "Let's now define our second skill, a function that can plot prices of stocks that were retrieved using our previous skill."
   ]
  },
  {
   "cell_type": "code",
   "execution_count": null,
   "id": "5",
   "metadata": {},
   "outputs": [],
   "source": [
    "def plot_stock_prices(stock_prices, filename):\n",
    "    \"\"\"Plot the stock prices for the given stock symbols.\n",
    "\n",
    "    Args:\n",
    "        stock_prices (pandas.DataFrame): The stock prices for the \n",
    "        given stock symbols.\n",
    "    \"\"\"\n",
    "    import matplotlib.pyplot as plt\n",
    "\n",
    "    plt.figure(figsize=(10, 5))\n",
    "    for column in stock_prices.columns:\n",
    "        plt.plot(\n",
    "            stock_prices.index, stock_prices[column], label=column\n",
    "                )\n",
    "    plt.title(\"Stock Prices\")\n",
    "    plt.xlabel(\"Date\")\n",
    "    plt.ylabel(\"Price\")\n",
    "    plt.grid(True)\n",
    "    plt.legend()\n",
    "    plt.savefig(filename)"
   ]
  },
  {
   "cell_type": "markdown",
   "id": "6",
   "metadata": {},
   "source": [
    "## Command Line Executor\n",
    "\n",
    "Since we will also execute code here, we are going to need a Command Line Executor again, but this time, we are going to add an argument to register the two functions we want our agents to be able to use."
   ]
  },
  {
   "cell_type": "code",
   "execution_count": null,
   "id": "7",
   "metadata": {},
   "outputs": [],
   "source": [
    "from autogen.code_utils import create_virtual_env\n",
    "from autogen.coding import CodeBlock, LocalCommandLineCodeExecutor\n",
    "\n",
    "venv_dir = \".env_llm\"\n",
    "venv_context = create_virtual_env(venv_dir)\n",
    "\n",
    "executor = LocalCommandLineCodeExecutor(\n",
    "    virtual_env_context=venv_context,\n",
    "    timeout=200,\n",
    "    work_dir=\"coding\",\n",
    "    functions=[get_stock_prices, plot_stock_prices],\n",
    ")\n",
    "print(\n",
    "    executor.execute_code_blocks(code_blocks=[CodeBlock(language=\"python\", code=\"import sys; print(sys.executable)\")])\n",
    ")"
   ]
  },
  {
   "cell_type": "markdown",
   "id": "8",
   "metadata": {},
   "source": [
    "## Agents definition\n",
    "\n",
    "### Code Writer agent\n",
    "\n",
    "We are going to define a code writer agent. But we need this code writer agent to be aware of the two new functions we defined. We need to tell it about them in its system prompt, to do so, we will load its default system prompt and add information to it about our functions, and then save this new system prompt as its default system prompt."
   ]
  },
  {
   "cell_type": "code",
   "execution_count": null,
   "id": "9",
   "metadata": {},
   "outputs": [],
   "source": [
    "from autogen import ConversableAgent, AssistantAgent\n",
    "\n",
    "# Agent that writes code\n",
    "code_writer_agent = AssistantAgent(\n",
    "    name=\"code_writer_agent\",\n",
    "    llm_config=llm_config,\n",
    "    code_execution_config=False,\n",
    "    human_input_mode=\"NEVER\",\n",
    ")"
   ]
  },
  {
   "cell_type": "markdown",
   "id": "10",
   "metadata": {},
   "source": [
    "This is the default prompt message of the code writer:"
   ]
  },
  {
   "cell_type": "code",
   "execution_count": null,
   "id": "11",
   "metadata": {},
   "outputs": [],
   "source": [
    "# Check system prompt message\n",
    "code_writer_agent_system_message = code_writer_agent.system_message"
   ]
  },
  {
   "cell_type": "markdown",
   "id": "12",
   "metadata": {},
   "source": [
    "Now the convenient thing is that the code executor we defined can automatically generate a prompt about those functions for us! Let's see what that looks like:"
   ]
  },
  {
   "cell_type": "code",
   "execution_count": null,
   "id": "13",
   "metadata": {},
   "outputs": [],
   "source": [
    "# And we have to let it know through its prompts of their existence\n",
    "# The executor will automatically generate a prompt for all our functions as long as they're properly documented:\n",
    "print(executor.format_functions_for_prompt())"
   ]
  },
  {
   "cell_type": "markdown",
   "id": "14",
   "metadata": {},
   "source": [
    "We can now add this prompt about our two functions to the default prompt and register it as the new default prompt of the code writer:"
   ]
  },
  {
   "cell_type": "code",
   "execution_count": null,
   "id": "15",
   "metadata": {},
   "outputs": [],
   "source": [
    "# So we can add this to the code writer agent's prompt\n",
    "code_writer_agent_system_message += executor.format_functions_for_prompt()\n",
    "# The complete prompt now contains additional information about our used defined functions\n",
    "print(code_writer_agent_system_message)\n",
    "\n",
    "# Let's update the code writer agents's prompt:\n",
    "code_writer_agent = ConversableAgent(\n",
    "    name=\"code_writer_agent\",\n",
    "    system_message=code_writer_agent_system_message,\n",
    "    llm_config=llm_config,\n",
    "    code_execution_config=False,\n",
    "    human_input_mode=\"NEVER\",\n",
    ")"
   ]
  },
  {
   "cell_type": "markdown",
   "id": "16",
   "metadata": {},
   "source": [
    "### Code Executor agent\n",
    "\n",
    "Nothing special about this agent, we'll define it the same way as last time, except that since it will have the executor object we defined perviously, it will also be aware of our two functions."
   ]
  },
  {
   "cell_type": "code",
   "execution_count": null,
   "id": "17",
   "metadata": {},
   "outputs": [],
   "source": [
    "# Code executor agent\n",
    "code_executor_agent = ConversableAgent(\n",
    "    name=\"code_executor_agent\",\n",
    "    llm_config=False,\n",
    "    code_execution_config={\"executor\": executor},\n",
    "    human_input_mode=\"ALWAYS\",\n",
    "    default_auto_reply=\n",
    "    \"Please continue. If everything is done, reply 'TERMINATE'.\",\n",
    ")"
   ]
  },
  {
   "cell_type": "markdown",
   "id": "18",
   "metadata": {},
   "source": [
    "## Coding task\n",
    "\n"
   ]
  },
  {
   "cell_type": "code",
   "execution_count": null,
   "id": "19",
   "metadata": {},
   "outputs": [],
   "source": [
    "# Let's run our task\n",
    "import datetime\n",
    "\n",
    "today = datetime.datetime.now().date()\n",
    "\n",
    "task = f\"Today is {today}.\"\n",
    "\"Create a plot showing the normalized price of NVDA and BTC-USD for the last 5 years \"\\\n",
    "\"with their 60 weeks moving average. \"\\\n",
    "\"Make sure the code is in markdown code block, save the figure\"\\\n",
    "\" to a file asset_analysis.png and who it. Provide all the code necessary in a single python bloc. \"\\\n",
    "\"Re-provide the code block that needs to be executed with each of your messages. \"\\\n",
    "\"If python packages are necessary to execute the code, provide a markdown \"\\\n",
    "\"sh block with only the command necessary to install them and no comments.\"\n",
    "\n",
    "chat_result = code_executor_agent.initiate_chat(\n",
    "    code_writer_agent,\n",
    "    message= task\n",
    ")"
   ]
  },
  {
   "cell_type": "markdown",
   "id": "20",
   "metadata": {},
   "source": [
    "Note that the Code Writer will automatically create a file called `functions.py` in coding and put our skills into it, it will then import it and use it in the code it will propose."
   ]
  }
 ],
 "metadata": {
  "kernelspec": {
   "display_name": ".venv",
   "language": "python",
   "name": "python3"
  },
  "language_info": {
   "codemirror_mode": {
    "name": "ipython",
    "version": 3
   },
   "file_extension": ".py",
   "mimetype": "text/x-python",
   "name": "python",
   "nbconvert_exporter": "python",
   "pygments_lexer": "ipython3",
   "version": "3.12.8"
  }
 },
 "nbformat": 4,
 "nbformat_minor": 5
}
