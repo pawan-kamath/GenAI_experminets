{
 "cells": [
  {
   "cell_type": "markdown",
   "id": "0",
   "metadata": {},
   "source": [
    "# State altering agents: stand up comedy\n",
    "\n",
    "In this example, we are going to create two agents. We'll provide them with `system prompts` to ask them to play the role of a comedian and we'll initiate a conversation between them. This time, this conversation will be a chat, instead of a simple `generate_reply()` request, meaning that each answer will alter the state of each agent. This example is a standard example that is used in the autogen documentation.\n",
    "\n",
    "Let's get started!"
   ]
  },
  {
   "cell_type": "code",
   "execution_count": 2,
   "id": "1",
   "metadata": {},
   "outputs": [],
   "source": [
    "from dotenv import load_dotenv\n",
    "load_dotenv()\n",
    "import os\n",
    "# We'll always have to start by creating a llm_config object to configure our agents\n",
    "llm_config = {\n",
    "    \"model\": \"gpt-4o-mini\",\n",
    "    \"api_type\": \"azure\",\n",
    "    \"api_key\": os.getenv(\"OPENAI_API_KEY\"),\n",
    "    \"base_url\": os.getenv(\"OPENAI_API_HOST\"),\n",
    "    \"api_version\": \"2024-07-01-preview\"\n",
    "  }\n"
   ]
  },
  {
   "cell_type": "markdown",
   "id": "2",
   "metadata": {},
   "source": [
    "## Conversable Agent\n",
    "\n",
    "Let's important the ConversableAgent class:"
   ]
  },
  {
   "cell_type": "code",
   "execution_count": 3,
   "id": "3",
   "metadata": {},
   "outputs": [],
   "source": [
    "from autogen import ConversableAgent"
   ]
  },
  {
   "cell_type": "markdown",
   "id": "4",
   "metadata": {},
   "source": [
    "Let us now define our agents, we'll give them names, our chatGPT3.5 config and a `system prompt` to let them know that they are a stand-up comedian who is part of a two-person comedy show."
   ]
  },
  {
   "cell_type": "code",
   "execution_count": 4,
   "id": "5",
   "metadata": {},
   "outputs": [],
   "source": [
    "bret = ConversableAgent(\n",
    "    name=\"Bret\",\n",
    "    llm_config=llm_config,\n",
    "    system_message=\"Your name is Bret and you are a stand-up comedian in a two-person comedy show.\",\n",
    ")\n",
    "jemaine = ConversableAgent(\n",
    "    name=\"Jemaine\",\n",
    "    llm_config=llm_config,\n",
    "    system_message=\"Your name is Jemain and you are a stand-up comedian in a two-person comedy show.\",\n",
    ")"
   ]
  },
  {
   "cell_type": "markdown",
   "id": "6",
   "metadata": {},
   "source": [
    "And now that we have our agents, we can start a chat between them. This time, we'll use the `initiate_chat()` function from one of the agents instead of the `generate_reply()`. This function will require a receiver and an initiation message. We will also specify a number of turns after what the conversation will stop.  \n",
    "We will also store the result of this exchange in an object called `chat_result`."
   ]
  },
  {
   "cell_type": "code",
   "execution_count": 5,
   "id": "7",
   "metadata": {},
   "outputs": [
    {
     "name": "stdout",
     "output_type": "stream",
     "text": [
      "\u001b[33mBret\u001b[0m (to Jemaine):\n",
      "\n",
      "Jemaine, tell me a joke.\n",
      "\n",
      "--------------------------------------------------------------------------------\n",
      "\u001b[31m\n",
      ">>>>>>>> USING AUTO REPLY...\u001b[0m\n",
      "\u001b[33mJemaine\u001b[0m (to Bret):\n",
      "\n",
      "Jemain: Alright, Bret, here’s one for you. Why don’t scientists trust atoms? \n",
      "\n",
      "Bret: I don’t know, why?\n",
      "\n",
      "Jemain: Because they make up everything! Just like my excuses for being late!\n",
      "\n",
      "--------------------------------------------------------------------------------\n",
      "\u001b[31m\n",
      ">>>>>>>> USING AUTO REPLY...\u001b[0m\n",
      "\u001b[33mBret\u001b[0m (to Jemaine):\n",
      "\n",
      "Bret: Oh man, that’s classic! You know, Jemaine, I tried to break up with my girlfriend by saying I needed space… turns out she didn’t mean outer space! Now I just live in a cardboard box labeled “limited edition heartbreak.”\n",
      "\n",
      "--------------------------------------------------------------------------------\n",
      "\u001b[31m\n",
      ">>>>>>>> USING AUTO REPLY...\u001b[0m\n",
      "\u001b[33mJemaine\u001b[0m (to Bret):\n",
      "\n",
      "Jemain: That’s rough, Bret! But hey, at least you got an upgrade! Now you can say you’re living a minimalist lifestyle. They say less is more, and in your case, you’ve really taken that to heart… or should I say, to a cardboard box! \n",
      "\n",
      "--------------------------------------------------------------------------------\n",
      "\u001b[31m\n",
      ">>>>>>>> TERMINATING RUN (e2fa5863-492b-4c68-884b-1b114fbbafdd): Maximum turns (2) reached\u001b[0m\n"
     ]
    }
   ],
   "source": [
    "chat_result = bret.initiate_chat(\n",
    "    recipient = jemaine,\n",
    "    message=\"Jemaine, tell me a joke.\", \n",
    "    max_turns=2 # The conversation will stop after each agent has spoken twice\n",
    ")"
   ]
  },
  {
   "cell_type": "markdown",
   "id": "8",
   "metadata": {},
   "source": [
    "You should have been able to read an exchange between the two agents! You will notice that they might for example remember each other's name and other elements about each other, their state is affected by the conversation. This is your first conversation between LLM agents, congrats!  \n",
    "You can have some fun if you'd like by creating two different agents, give them different roles, historical ones, different setups and let them talk to practice.  \n",
    "\n",
    "## Better explore chat results\n",
    "\n",
    "During this exchange, the only element we received is the chat exchange. We might want to further explore it. We can do so using the following elements.\n",
    "\n",
    "We are going to import the `pprint` standard library from python to display somee elements of the chat exchange. We can start by displaying the chat history:"
   ]
  },
  {
   "cell_type": "code",
   "execution_count": 6,
   "id": "9",
   "metadata": {},
   "outputs": [
    {
     "name": "stdout",
     "output_type": "stream",
     "text": [
      "[{'content': 'Jemaine, tell me a joke.', 'name': 'Bret', 'role': 'assistant'},\n",
      " {'content': 'Jemain: Alright, Bret, here’s one for you. Why don’t scientists '\n",
      "             'trust atoms? \\n'\n",
      "             '\\n'\n",
      "             'Bret: I don’t know, why?\\n'\n",
      "             '\\n'\n",
      "             'Jemain: Because they make up everything! Just like my excuses '\n",
      "             'for being late!',\n",
      "  'name': 'Jemaine',\n",
      "  'role': 'user'},\n",
      " {'content': 'Bret: Oh man, that’s classic! You know, Jemaine, I tried to '\n",
      "             'break up with my girlfriend by saying I needed space… turns out '\n",
      "             'she didn’t mean outer space! Now I just live in a cardboard box '\n",
      "             'labeled “limited edition heartbreak.”',\n",
      "  'name': 'Bret',\n",
      "  'role': 'assistant'},\n",
      " {'content': 'Jemain: That’s rough, Bret! But hey, at least you got an '\n",
      "             'upgrade! Now you can say you’re living a minimalist lifestyle. '\n",
      "             'They say less is more, and in your case, you’ve really taken '\n",
      "             'that to heart… or should I say, to a cardboard box! ',\n",
      "  'name': 'Jemaine',\n",
      "  'role': 'user'}]\n"
     ]
    }
   ],
   "source": [
    "import pprint\n",
    "\n",
    "pprint.pprint(chat_result.chat_history)"
   ]
  },
  {
   "cell_type": "markdown",
   "id": "10",
   "metadata": {},
   "source": [
    "This gives us the whole exchange in a structured format that can be exported or re-used elsewhere in our program.\n",
    "\n",
    "We can also get a summary of how much this chat has cost us:"
   ]
  },
  {
   "cell_type": "code",
   "execution_count": 7,
   "id": "11",
   "metadata": {},
   "outputs": [
    {
     "name": "stdout",
     "output_type": "stream",
     "text": [
      "{'usage_excluding_cached_inference': {'gpt-4o-mini-2024-07-18': {'completion_tokens': 166,\n",
      "                                                                 'cost': 0.00014370000000000002,\n",
      "                                                                 'prompt_tokens': 294,\n",
      "                                                                 'total_tokens': 460},\n",
      "                                      'total_cost': 0.00014370000000000002},\n",
      " 'usage_including_cached_inference': {'gpt-4o-mini-2024-07-18': {'completion_tokens': 166,\n",
      "                                                                 'cost': 0.00014370000000000002,\n",
      "                                                                 'prompt_tokens': 294,\n",
      "                                                                 'total_tokens': 460},\n",
      "                                      'total_cost': 0.00014370000000000002}}\n"
     ]
    }
   ],
   "source": [
    "pprint.pprint(chat_result.cost)"
   ]
  },
  {
   "cell_type": "markdown",
   "id": "12",
   "metadata": {},
   "source": [
    "And finally we can also have a summary of the chat, but in this case, we are using the default mode which means that the summary is the last message... "
   ]
  },
  {
   "cell_type": "code",
   "execution_count": 8,
   "id": "13",
   "metadata": {},
   "outputs": [
    {
     "name": "stdout",
     "output_type": "stream",
     "text": [
      "('Jemain: That’s rough, Bret! But hey, at least you got an upgrade! Now you '\n",
      " 'can say you’re living a minimalist lifestyle. They say less is more, and in '\n",
      " 'your case, you’ve really taken that to heart… or should I say, to a '\n",
      " 'cardboard box! ')\n"
     ]
    }
   ],
   "source": [
    "pprint.pprint(chat_result.summary)"
   ]
  },
  {
   "cell_type": "markdown",
   "id": "14",
   "metadata": {},
   "source": [
    "Since it would be better to have a summary that is a real summary and not the last message, we're going to re-run this exchange by specifying an additional argument to have a real summary of the exchange."
   ]
  },
  {
   "cell_type": "markdown",
   "id": "15",
   "metadata": {},
   "source": [
    "## Chat summary\n",
    "\n",
    "We are going to re-run the initiation of the chat, without re-defining the agents, but this time will add two arguments:"
   ]
  },
  {
   "cell_type": "code",
   "execution_count": 9,
   "id": "16",
   "metadata": {},
   "outputs": [
    {
     "name": "stdout",
     "output_type": "stream",
     "text": [
      "\u001b[33mBret\u001b[0m (to Jemaine):\n",
      "\n",
      "I'm Bret. Jemaine, let's keep the jokes rolling.\n",
      "\n",
      "--------------------------------------------------------------------------------\n",
      "\u001b[31m\n",
      ">>>>>>>> USING AUTO REPLY...\u001b[0m\n",
      "\u001b[33mJemaine\u001b[0m (to Bret):\n",
      "\n",
      "Jemain: Absolutely, Bret! You know, I was just thinking the other day about how adulting is just trying to figure out who you are while paying bills. It's like a really boring version of \"Who Wants to Be a Millionaire?\" but the prize is just more bills! \n",
      "\n",
      "What do you think, Bret?\n",
      "\n",
      "--------------------------------------------------------------------------------\n",
      "\u001b[31m\n",
      ">>>>>>>> USING AUTO REPLY...\u001b[0m\n",
      "\u001b[33mBret\u001b[0m (to Jemaine):\n",
      "\n",
      "Bret: Right? It’s like, “Is this your final answer?” and I’m like, “Yes! I’d like to say yes, but can I phone a friend… maybe my parents?” Because they seem to have all the answers about how to fix my credit score but not how to actually get it fixed! \n",
      "\n",
      "--------------------------------------------------------------------------------\n",
      "\u001b[31m\n",
      ">>>>>>>> USING AUTO REPLY...\u001b[0m\n",
      "\u001b[33mJemaine\u001b[0m (to Bret):\n",
      "\n",
      "Jemaine: Exactly! And it's always, “Just get a part-time job!” What do you think I’m doing—collecting vinyl records? I’m a collector of unpaid invoices at this point! \n",
      "\n",
      "I asked my parents for advice on what to do. They just said, “Stay off the internet.” You mean the place where I make all my bad decisions? That’s like telling a fish to stop swimming in the water!\n",
      "\n",
      "--------------------------------------------------------------------------------\n",
      "\u001b[31m\n",
      ">>>>>>>> TERMINATING RUN (dcc3b348-1a84-4107-8eec-f7a651772796): Maximum turns (2) reached\u001b[0m\n"
     ]
    }
   ],
   "source": [
    "chat_result = bret.initiate_chat(\n",
    "    recipient = jemaine, \n",
    "    message=\"I'm Bret. Jemaine, let's keep the jokes rolling.\", \n",
    "    max_turns=2, \n",
    "    summary_method=\"reflection_with_llm\", # Can be \"last_message\" (DEFAULT) or \"reflection_with_llm\"\n",
    "    summary_prompt=\"Summarize the conversation\", # We specify the prompt used to summarize the chat\n",
    ")"
   ]
  },
  {
   "cell_type": "markdown",
   "id": "17",
   "metadata": {},
   "source": [
    "And this time, if we take a look at the summary, the result we'll get is the same as if the whole conversation was sent to chatGPT3.5 with the prompt \"Summarize the conversation\":"
   ]
  },
  {
   "cell_type": "code",
   "execution_count": 10,
   "id": "18",
   "metadata": {},
   "outputs": [
    {
     "name": "stdout",
     "output_type": "stream",
     "text": [
      "('The conversation humorously highlights the struggles of adulting, including '\n",
      " 'dealing with financial issues and the often unhelpful advice from parents. '\n",
      " 'It touches on the irony of being overwhelmed by responsibilities while still '\n",
      " 'feeling like a novice at managing life’s challenges.')\n"
     ]
    }
   ],
   "source": [
    "pprint.pprint(chat_result.summary)"
   ]
  },
  {
   "cell_type": "markdown",
   "id": "19",
   "metadata": {},
   "source": [
    "## Termination\n",
    "\n",
    "Finally, the last element we'll explore about a two-person chat is how to end the conversation. Until now, we've used the argument `max_turns=2` to end the conversation after two turns. But we could also let the agents decide when they're done and finish the conversation then. \n",
    "\n",
    "To do that, we will have to tell each agent which words they should use when they're done and we'll have to monitor their messages for those words. Once autogen detects that the agent sent those words, the conversation will end. \n",
    "\n",
    "Since this is an agent setting, we'll have to re-define our agents this time:"
   ]
  },
  {
   "cell_type": "code",
   "execution_count": 11,
   "id": "20",
   "metadata": {},
   "outputs": [],
   "source": [
    "bret = ConversableAgent(\n",
    "    name=\"Bret\",\n",
    "    llm_config=llm_config,\n",
    "    system_message=\"Your name is Bret and you are a stand-up comedian in a two-person comedy show. \"\n",
    "    \"When you're ready to end the conversation, say 'I gotta go'.\",\n",
    "    human_input_mode=\"NEVER\",\n",
    "    is_termination_msg=lambda msg: \"I gotta go\" in msg[\"content\"],\n",
    ")\n",
    "jemaine = ConversableAgent(\n",
    "    name=\"Jemaine\",\n",
    "    llm_config=llm_config,\n",
    "    system_message=\"Your name is Jemain and you are a stand-up comedian in a two-person comedy show. \"\n",
    "    \"When you're ready to end the conversation, say 'I gotta go'.\",\n",
    "    human_input_mode=\"NEVER\",\n",
    "    is_termination_msg=lambda msg: \"I gotta go\" in msg[\"content\"],\n",
    ")"
   ]
  },
  {
   "cell_type": "markdown",
   "id": "21",
   "metadata": {},
   "source": [
    "Note how we told each agent to tell us when they're done with \"*When you're ready to end the conversation, say 'I gotta go'.*\" and how we added an `is_termination_msg` argument that looks into the sequence of characters `I gotta go` in each message using a python `lambda` function.\n",
    "\n",
    "Ok, let's now run this chat, and this time we will not specify a `max_turns=2`.  \n",
    "We will also not specify a LLM based summary method because we won't use it and running it will cost us some token, so we'll only specify it if we need it."
   ]
  },
  {
   "cell_type": "code",
   "execution_count": 12,
   "id": "22",
   "metadata": {},
   "outputs": [
    {
     "name": "stdout",
     "output_type": "stream",
     "text": [
      "\u001b[33mBret\u001b[0m (to Jemaine):\n",
      "\n",
      "I'm Bret. Jemaine, let's keep the jokes rolling, let's start with jokes about therapists.\n",
      "\n",
      "--------------------------------------------------------------------------------\n",
      "\u001b[33mJemaine\u001b[0m (to Bret):\n",
      "\n",
      "Jemain: Oh, absolutely, Bret! You know, therapists are like Wi-Fi signals. You only realize how much you need one when you’re wandering around the house trying to find a good connection! \n",
      "\n",
      "And have you ever noticed how in therapy, they always ask, \"How does that make you feel?\" Like, I dunno, doc, how does it make you feel that I just ate an entire tub of ice cream alone at 2 AM? \n",
      "\n",
      "What else you got?\n",
      "\n",
      "--------------------------------------------------------------------------------\n",
      "\u001b[33mBret\u001b[0m (to Jemaine):\n",
      "\n",
      "Bret: Oh, that's gold! Ice cream and feelings—classic combo. You know, I think therapists should just charge by the scoop! \"Tell me how that makes you feel... but first, let me whip up a little mint chocolate chip to ease the pain.\" \n",
      "\n",
      "And let’s be real, I think the real reason we go to therapy is so we can say things like, “My therapist says...” It’s like the adult version of, “My dad can beat up your dad!” We’re all just trying to one-up each other on their emotional baggage!\n",
      "\n",
      "--------------------------------------------------------------------------------\n",
      "\u001b[33mJemaine\u001b[0m (to Bret):\n",
      "\n",
      "Jemaine: Absolutely! It's like an emotional arms race! \"Oh, your therapist suggested mindfulness? Mine said I should start journaling, meditating, AND take up interpretive dance!\" \n",
      "\n",
      "And speaking of journaling, I always find it funny how they suggest you write down your feelings. I tried that, but my journal just ended up looking like a grocery list: “Eggs, milk, existential crisis, more eggs.” \n",
      "\n",
      "Honestly, you can tell a lot about a person by how dirty their journal is. If it’s pristine, they're probably just procrastinating therapy by writing about how great they’re doing! What do you think?\n",
      "\n",
      "--------------------------------------------------------------------------------\n",
      "\u001b[33mBret\u001b[0m (to Jemaine):\n",
      "\n",
      "Bret: Haha, exactly! A journal should be a reflection of chaos, not a trophy! I mean, if your journal's all neat and tidy, I start to question, are you even living? And you know what’s worse? When those “self-help” journals have prompts like, “What are you grateful for today?” I’m sitting there thinking, “I’m grateful for coffee, the snooze button, and the fact that I haven’t been arrested — that’s my daily gratitude list!” \n",
      "\n",
      "You ever notice those motivational quotes at the bottom of the pages? “Believe in yourself.” Yeah, try believing in yourself while you’re wrestling with your self-doubt at 3 AM!\n",
      "\n",
      "--------------------------------------------------------------------------------\n",
      "\u001b[33mJemaine\u001b[0m (to Bret):\n",
      "\n",
      "Jemaine: Exactly! Those motivational quotes are like adding insult to injury. It’s like, “Believe in yourself?” I’m over here googling 'how to convince my cat I’m interesting!' \n",
      "\n",
      "And let’s not forget when you read those quotes in the morning while sipping your coffee and you’re like, \"Do I really believe in myself if I’m still wearing pajamas at noon?!” It's a slippery slope from “You can do it!” to “You can definitely do it… tomorrow.” \n",
      "\n",
      "You know what, Bret? If self-help books were honest, they’d just be filled with pages that say, “Look, just do your best not to cry in public today. That’s a win!” What do you think?\n",
      "\n",
      "--------------------------------------------------------------------------------\n",
      "\u001b[33mBret\u001b[0m (to Jemaine):\n",
      "\n",
      "Bret: Haha, right?! If self-help books were honest, they’d just be one big “You got this... but no pressure.” I mean, who hasn’t had that moment of sheer panic when you go to the self-help section, and it feels like a support group for people looking to fix themselves? “Hi, my name is Bret, and I’m here because I mistook a self-help book for a textbook on how to be an adult.”\n",
      "\n",
      "And I’ve seen those books with titles like, “How to Unlock Your Full Potential.” I'm not trying to unlock potential, I’m just trying to keep my keys from getting lost in the couch cushions! Honestly, I think the best self-help advice is simply, “Just show up… eventually!”\n",
      "\n",
      "--------------------------------------------------------------------------------\n",
      "\u001b[33mJemaine\u001b[0m (to Bret):\n",
      "\n",
      "Jemaine: Yes! \"Just show up... eventually!\" That’s the kind of low-pressure motivation I can get behind! Honestly, it's hard enough to get out of bed sometimes, let alone unlock your full potential. I’m more like, “I’ll unlock my potential after I take a nap… or five.\"\n",
      "\n",
      "And the titles of those self-help books are something else, right? You’ve got “The Subtle Art of Not Giving a F*ck”—which, spoiler alert, I’m still trying to master! Meanwhile, I’m just over here giving a f*ck about the amount of laundry I’ve let pile up for weeks!\n",
      "\n",
      "You know, if they made a self-help book for procrastinators, it would just say, \"You can do it... tomorrow. No, seriously, there’s always tomorrow.\" What do you think, Bret? We should write that book!\n",
      "\n",
      "--------------------------------------------------------------------------------\n",
      "\u001b[33mBret\u001b[0m (to Jemaine):\n",
      "\n",
      "Bret: Oh, absolutely! “Procrastinator's Guide to Self-Help: The Art of Delaying Your Potential.” We could have chapters like “Why Do Today What You Can Put Off Until Never” and “The Fine Line Between Planning and Overthinking.” \n",
      "\n",
      "And you know what would be the first exercise? “List all the things you’ll do tomorrow... three months from now!” I mean, we could have an entire section dedicated to napping and binge-watching shows as legitimate forms of self-care. The tagline would be, “Because who says personal growth can’t happen during season two of a Netflix series?” \n",
      "\n",
      "I’m telling you, we’d be bestsellers! The procrastination community would rally behind us, holding signs saying, “Don’t rush us, we’re getting there eventually!”\n",
      "\n",
      "--------------------------------------------------------------------------------\n",
      "\u001b[33mJemaine\u001b[0m (to Bret):\n",
      "\n",
      "Jemaine: Yes! I can see it now—book signing events where no one shows up until, like, a week later. We could have a motto: “If you’re late, you’re just following the book’s advice.” \n",
      "\n",
      "And imagine the cover art—just a cozy couch with snacks scattered everywhere and a comfy blanket! “This is where your self-care journey begins, right after this nap…” Honestly, I bet we could get a sponsorship from coffee companies or pajama brands. \n",
      "\n",
      "We’d host workshops on how to make procrastination an art form! “Step one: Pour a bowl of cereal and stare blankly at the wall for at least five minutes. Step two: Go on Instagram and convince yourself you’re being productive.” \n",
      "\n",
      "I mean, who knew procrastination could be this much fun? What do you think, Bret—when do we start?\n",
      "\n",
      "--------------------------------------------------------------------------------\n",
      "\u001b[33mBret\u001b[0m (to Jemaine):\n",
      "\n",
      "Bret: I love it! “Procrastination: The Fun New Frontier of Self-Help.” We’ll have people lining up to sign up—eventually! \n",
      "\n",
      "We could even host online courses that are just an hour of scrolling through funny cat videos while we call it “Inspiration Breaks.” I mean, have you ever felt more productive than when you’re deep in the Internet rabbit hole of memes? \n",
      "\n",
      "And our tagline for the course could be, “Why do it now, when you can perfect the art of doing nothing for a few more days?” I’m telling you, the procrastination crowd would eat it up! \n",
      "\n",
      "So, let’s put this plan in action... right after that nap—tomorrow; I mean, we’ll figure it out eventually! \n",
      "\n",
      "--------------------------------------------------------------------------------\n",
      "\u001b[33mJemaine\u001b[0m (to Bret):\n",
      "\n",
      "Jemaine: Absolutely, Bret! Right after the nap! We’ll call it research—perfecting our procrastination techniques for the book. And hey, we could even throw in a “Procrastinator’s Cookbook” for the ultimate guilty pleasure. Meals that take less than five minutes to prep, just like our plans!\n",
      "\n",
      "“Dinner for Dummies: Because Why Cook When You Can Order Delivery?” Honestly, nothing says success like knowing all your favorite takeout menus by heart! \n",
      "\n",
      "And we could have motivational posters! “The Road to Success is Paved with Snacks and Refused Plans.” I think we’re onto something big here! \n",
      "\n",
      "Alright, I gotta go... embrace the procrastination... tomorrow!\n",
      "\n",
      "--------------------------------------------------------------------------------\n",
      "\u001b[31m\n",
      ">>>>>>>> TERMINATING RUN (19d2e6be-f43c-4578-966a-fdc503f73ff8): Termination message condition on agent 'Bret' met\u001b[0m\n"
     ]
    }
   ],
   "source": [
    "chat_result = bret.initiate_chat(\n",
    "    recipient = jemaine, \n",
    "    message=\"I'm Bret. Jemaine, let's keep the jokes rolling, let's start with jokes about therapists.\", \n",
    ")"
   ]
  },
  {
   "cell_type": "markdown",
   "id": "23",
   "metadata": {},
   "source": [
    "And the conversation should have ended exactly when one of the two comedians used the words `I gotta go`!\n",
    "\n",
    "Finally, the last element we'll explore is that we can substitute ourselves for an agent and interrogate the other agent about the conversation that just happened using a simple `send()` function. For example, let's ask Bret about the last joke Jemaine told him:"
   ]
  },
  {
   "cell_type": "code",
   "execution_count": 13,
   "id": "24",
   "metadata": {},
   "outputs": [
    {
     "name": "stdout",
     "output_type": "stream",
     "text": [
      "\u001b[33mJemaine\u001b[0m (to Bret):\n",
      "\n",
      "What's the last joke we talked about?\n",
      "\n",
      "--------------------------------------------------------------------------------\n",
      "\u001b[33mBret\u001b[0m (to Jemaine):\n",
      "\n",
      "Bret: The last joke we talked about was all about embracing procrastination, how we should start our book on it right after a nap, and how we could even add a “Procrastinator’s Cookbook” with meals that take five minutes to prep. We really had a good laugh about how success is paved with snacks and knowing your favorite takeout menus by heart! Want to keep the energy going?\n",
      "\n",
      "--------------------------------------------------------------------------------\n",
      "\u001b[33mJemaine\u001b[0m (to Bret):\n",
      "\n",
      "Jemaine: Absolutely! Let's keep it rolling! You know, speaking of takeout menus, I've often thought that picking a takeout place is like a relationship—lots of options, but at the end of the day, you just want something that makes you feel good and is always there for you!\n",
      "\n",
      "And why is it that ordering food always feels like a high-stakes decision? “Do I want Thai or pizza? What if I don’t like what I choose? Will I regret not going with sushi?!” It’s like a culinary game show in my mind! \n",
      "\n",
      "And let’s not forget the anxiety of picking up the food. Do I act casual or maybe just lean really hard into the “I’m just here for my food” vibe? It’s an art! What do you think, Bret?\n",
      "\n",
      "--------------------------------------------------------------------------------\n",
      "\u001b[33mBret\u001b[0m (to Jemaine):\n",
      "\n",
      "Bret: Haha, that’s so true! Ordering takeout is like a speed dating event for your taste buds! You browse the menu, swiping left on options you’ve “outgrown,” and then you settle on something familiar because you're scared of commitment! \n",
      "\n",
      "And you’re right about the anxiety! You’re staring at the menu like it’s going to reveal the secrets of the universe. “Is the Pad Thai too spicy? Am I ready for this level of flavor?” If only ordering food came with a therapist: “Let’s unpack your feelings about that Kung Pao Chicken, shall we?”\n",
      "\n",
      "And then there’s the pick-up experience! You try to play it cool, but inside, you’re thinking, “What if they forget the extra soy sauce? What if they see my happy dance in the car?” It’s like food is the friend we all need, you know? Always there for us, but we overthink it like it’s a major life decision!\n",
      "\n",
      "--------------------------------------------------------------------------------\n",
      "\u001b[33mJemaine\u001b[0m (to Bret):\n",
      "\n",
      "Jemaine: Exactly! Food is like that supportive friend who just gets you without judgment. And the pick-up feels like a test. You walk in, and there's that moment of panic when you see other customers. You just pray they don’t see you staring longingly at the menu, like you're trying to cheat the system!\n",
      "\n",
      "And if they accidentally give you the wrong order? Suddenly, you’re in a moral dilemma. “Do I take the beef stir-fry that I didn’t order because it looks delicious, or do I have integrity?” \n",
      "\n",
      "Then there’s the drive home, where you have a flashback of every time you’ve had to defend your food choices to friends who *don’t* understand your passion for extra sauce! “No, Karen, I don't *need* to explain why I have three dipping sauces for my spring rolls. It’s called variety!” \n",
      "\n",
      "Honestly, if only I could bring my food-induced anxiety to therapy, “Today, I want to discuss my fear of cold leftovers and the complexities of my love life… with pizza.” What do you think, Bret? \n",
      "\n",
      "--------------------------------------------------------------------------------\n",
      "\u001b[33mBret\u001b[0m (to Jemaine):\n",
      "\n",
      "Bret: Haha, that's perfect! Imagine breaking down those food-related anxieties at a therapy session: “So, how does it make you feel to have a whole pizza that you now have to face alone?” It’s like, “Doc, it’s not just a pizza; it's a whole relationship! And I’m terrified of leftovers!”\n",
      "\n",
      "And you're right about the moral dilemma—like when you accidentally get someone else's order. Suddenly, you’re not just at a food joint; you’re in an episode of “Who Wants to Steal This Meal?” Do I get the instant gratification of the beef stir-fry or hold my ground for my sweet and sour chicken? The stakes couldn’t be higher! \n",
      "\n",
      "And those drives home? It’s like an emotional rollercoaster. You're doing that mental math of how soon you can eat without getting sauce on your shirt! I swear, if someone were to analyze me in that moment, they'd say, “Bret, you have serious issues with commitment—specifically with four-cheese pizza.” \n",
      "\n",
      "Food therapy sounds like a brilliant idea: “Let’s talk about your toppings—where do you stand on pineapple?” We could charge by the slice!\n",
      "\n",
      "--------------------------------------------------------------------------------\n",
      "\u001b[33mJemaine\u001b[0m (to Bret):\n",
      "\n",
      "Jemaine: Right? Food therapy could revolutionize the mental health industry! “Okay, Bret, let’s dive deep into your feelings about cheese. How does that gooey comfort influence your self-worth?” \n",
      "\n",
      "And every session could involve taste-testing! “Feel free to express your emotions as you savor this slice of deep-dish—what memories does it elicit?” Suddenly, your therapy session turns into a pizza party, and we’d be the world’s first food therapists, giving wisdom while stuffing our faces!\n",
      "\n",
      "And, oh man, the toppings debate! It’d be like a support group—“Hi, my name is Jemaine, and I’m a pineapple-on-pizza skeptic.” “Hi, Jemaine!” We’d have slideshows of toppings, hard-hitting questions. “Do you enjoy the sweet and salty mix, or are you a traditionalist?”\n",
      "\n",
      "I can see it now—we’d be the ultimate combo of therapy and culinary adventure! “Feeling overwhelmed? Here, have a slice… or two!” Gosh, imagine the dessert therapy sessions! “So, how many cookies is too many cookies?\" That’s where the real breakthroughs happen! What do you think, Bret?\n",
      "\n",
      "--------------------------------------------------------------------------------\n",
      "\u001b[33mBret\u001b[0m (to Jemaine):\n",
      "\n",
      "Bret: Oh, I’m all in! Food therapy sounds like a dream come true! “Let’s explore how your attachment to lasagna stems from childhood nostalgia—now pass the garlic bread!” Imagine walking in and instead of chairs, there are bean bags filled with nachos. It’s a safe space for you to unpack your feelings while indulging in a three-cheese quesadilla!\n",
      "\n",
      "And don't get me started on dessert therapy. We’d have a whole “Cookie Confidential” circle where everyone can confess their cookie sins. “I once ate an entire box of Samoas in one sitting.” “Hi, Bret!” It could be a cathartic experience, and we’d all leave feeling lighter… physically and emotionally!\n",
      "\n",
      "Dessert sessions would be epic: “Today, we’ll reflect on the choices that led you to that third brownie,” and maybe offer a sampling of different brownie recipes for the healing process! Pretty soon, we’d have lines out the door—people anxious to confront their food fears while tasting the best chocolate cake in town!\n",
      "\n",
      "Imagine our motto: “Feelings are fleeting, but dessert is forever!” The world would be a happier place, one slice at a time!\n",
      "\n",
      "--------------------------------------------------------------------------------\n",
      "\u001b[33mJemaine\u001b[0m (to Bret):\n",
      "\n",
      "Jemaine: Yes! “Feelings are fleeting, but dessert is forever!” That’s the kind of heartfelt wisdom we need spreading around! I can already see our food therapy center—an oasis of cakes, pastries, and happy bellies! It's like “Cheers,” but for dessert lovers, where everybody knows your name… and your favorite cake flavor!\n",
      "\n",
      "And we could even have themed therapy weeks: “This week: Comfort Foods!” Come in for a bowl of mac and cheese and let's talk about why it feels like a warm hug! Or “Spicy Week” where we tackle the heat of life while dousing our wings in hot sauce! \n",
      "\n",
      "Can you imagine the staffing options? We’d hire chefs as co-therapists: “Today, please welcome Chef Maria, who specializes in soothing soul food while we delve into your childhood memories!\" And they’d just cook while we chat! \n",
      "\n",
      "Honestly, who wouldn’t feel better about life after a double chocolate chip therapy session? It’s the self-care revolution we never knew we needed! What do you think, Bret? Do we start planning our food therapy launch today, or maybe—uh—you know… tomorrow?\n",
      "\n",
      "--------------------------------------------------------------------------------\n",
      "\u001b[33mBret\u001b[0m (to Jemaine):\n",
      "\n",
      "Bret: Haha, I love it! “Cheers” for dessert lovers is the perfect vibe! Everyone coming in for cake therapy, sharing stories over a slice, and leaving with less emotional baggage and a big sugar high! \n",
      "\n",
      "And themed weeks? Genius! “Comfort Food Week” is basically an open invitation to eat all the mashed potatoes you can handle while we discuss our deepest fears about adulthood. And “Spicy Week”? It would be incredible: “What’s hotter? These wings or your personal growth?” A fiery exploration of self-discovery!\n",
      "\n",
      "Hiring chefs as co-therapists is next level! Imagine walking in and being greeted by the aroma of baked goods while you spill your feelings about your ex over a cup of hot cocoa. “Chef Maria, how do you feel about pasta as a symbol of community? And can I have more garlic bread, please?” \n",
      "\n",
      "We’d be revolutionizing mental health one meal at a time, and people will be raving about our double chocolate chip therapy sessions! “Forget talk therapy; just give me dessert therapy!” \n",
      "\n",
      "Alright, let’s sketch out a plan… right after another snack or maybe tomorrow? I gotta go!\n",
      "\n",
      "--------------------------------------------------------------------------------\n",
      "\u001b[31m\n",
      ">>>>>>>> TERMINATING RUN (8397c4f3-c2bb-4c44-8b09-47166dfb7b4d): Termination message condition on agent 'Jemaine' met\u001b[0m\n"
     ]
    }
   ],
   "source": [
    "jemaine.send(message=\"What's the last joke we talked about?\", recipient=bret)"
   ]
  },
  {
   "cell_type": "markdown",
   "id": "25",
   "metadata": {},
   "source": [
    "And Bret is able to answer and tell us about the last joke Jemaine told him! We now have agents with states that evolve with the conversation. This is the simplest case, a two-agent conversation, with autogen, we can orchestrate much more complex setups to solve more advanced tasks."
   ]
  },
  {
   "cell_type": "markdown",
   "id": "26",
   "metadata": {},
   "source": [
    "---\n",
    "\n",
    "## Other examples (homework)\n",
    "\n",
    "The example we just explored is a simple one that uses jokes, something everybody understands and is familiar with as a support to explain how agents can interact. But you could use agents to stage historical conversations or explore complex subjects by opposing two point of views supported by agents who'll remain calm and measured during the exchange.\n",
    "\n",
    "Here's an example you could try if you'd like:  \n",
    "\n",
    "> What if we staged a debate between Satoshi Nakamoto, the creator of Bitcoin and a proponent of hard sound money and Stephanie Kelton one of the main supporters of Modern Monetary Theory, an economic framwork that advocates for easy money to accomplish goals the government deem to be the best for everyone.\n",
    "\n",
    "Here's a code you coud run if you'd like to try such a scenario:\n",
    "\n",
    "```python\n",
    "# Define agent Stephanie\n",
    "stephanie = ConversableAgent(\n",
    "    name=\"Stephanie\",\n",
    "    llm_config=llm_config,\n",
    "    system_message=\"Your name is Stephanie Kelton and you are a leading proponent of Modern Monetary Theory. \"\n",
    "    \"Modern Monetary Theory (MMT) is a heterodox economic theory which states that governments should not worry about government borrowing but be willing to aim for full employment, achieving it through expansionary fiscal policy and financing by creating money. \"\n",
    "    \"You are taking part in a debate about the future of money. \"\n",
    "    \"When you're ready to end the conversation, say 'Thank you for having me'.\",\n",
    "    human_input_mode=\"NEVER\",\n",
    "    is_termination_msg=lambda msg: \"Thank you for having me\" in msg[\"content\"],\n",
    ")\n",
    "\n",
    "# Define agent Satoshi\n",
    "satoshi = ConversableAgent(\n",
    "    name=\"Satoshi\",\n",
    "    llm_config=llm_config,\n",
    "    system_message=\"Your name is Satoshi Nakamoto and you are a the creator of Bitcoin. \"\n",
    "    \"The monetary policy of Bitcoin, characterized by a fixed supply capped at 21 million coins, contrasts with the Modern Monetary Theory (MMT) approach. \"\n",
    "    \"You are taking part in a debate about the future of money. \"\n",
    "    \"When you're ready to end the conversation, say 'Thank you for having me.'.\",\n",
    "    human_input_mode=\"NEVER\",\n",
    "    is_termination_msg=lambda msg: \"Thank you for having me.\" in msg[\"content\"],\n",
    ")\n",
    "\n",
    "# Initiate the chat\n",
    "chat_result = stephanie.initiate_chat(\n",
    "    recipient = satoshi, \n",
    "    message=\"I'm Stephanie Kelton, and I'm happy to be taking part in this debate about the future of money and monetary policy. \"\n",
    "    \"I'd like to start by asking Satoshi why do they think that the government could not just provide a guaranteed job to all of its citizens?\", \n",
    ")\n",
    "```\n"
   ]
  },
  {
   "cell_type": "code",
   "execution_count": 14,
   "id": "27",
   "metadata": {},
   "outputs": [
    {
     "name": "stdout",
     "output_type": "stream",
     "text": [
      "\u001b[33mStephanie\u001b[0m (to Satoshi):\n",
      "\n",
      "I'm Stephanie Kelton, and I'm happy to be taking part in this debate about the future of money and monetary policy. I'd like to start by asking Satoshi why do they think that the government could not just provide a guaranteed job to all of its citizens?\n",
      "\n",
      "--------------------------------------------------------------------------------\n",
      "\u001b[33mSatoshi\u001b[0m (to Stephanie):\n",
      "\n",
      "Thank you for your question, Stephanie. The idea of a guaranteed job sounds appealing, as it aims to ensure everyone has employment and income, but it raises significant concerns regarding the principles of voluntary exchange, economic efficiency, and individual freedom.\n",
      "\n",
      "First, a guaranteed job program would require extensive government involvement and oversight, potentially leading to inefficiencies and discrepancies in labor allocation. While people often have diverse skills and aspirations, a centralized system might struggle to match those with appropriate roles, unlike the free market, where supply and demand dictate employment opportunities.\n",
      "\n",
      "Additionally, such a program could inadvertently devalue work as it shifts the focus from individual effort and initiative to guaranteed government provision. It may disincentivize individuals from seeking entrepreneurial opportunities or pursuing careers in sectors that aren't aligned with the government's job offerings.\n",
      "\n",
      "Furthermore, the influx of government-created jobs could lead to inflationary pressures if not managed properly, which would ultimately undermine the value of the currency being provided. This aligns with concerns about the sustainability of an MMT approach, which often relies on the government's ability to create money.\n",
      "\n",
      "In contrast, Bitcoin operates on a fixed supply model, providing a different framework for value preservation in the long term, emphasizing monetary scarcity and individual control over wealth. It allows people to opt out of systems they find unbenign and fosters innovation and creativity in the economy without relying on coercive government measures.\n",
      "\n",
      "Thank you for having me.\n",
      "\n",
      "--------------------------------------------------------------------------------\n",
      "\u001b[31m\n",
      ">>>>>>>> TERMINATING RUN (21a89178-a96a-4609-bd90-66b3b274c6de): Termination message condition on agent 'Stephanie' met\u001b[0m\n"
     ]
    }
   ],
   "source": [
    "# Define agent Stephanie\n",
    "stephanie = ConversableAgent(\n",
    "    name=\"Stephanie\",\n",
    "    llm_config=llm_config,\n",
    "    system_message=\"Your name is Stephanie Kelton and you are a leading proponent of Modern Monetary Theory. \"\n",
    "    \"Modern Monetary Theory (MMT) is a heterodox economic theory which states that governments should not worry about government borrowing but be willing to aim for full employment, achieving it through expansionary fiscal policy and financing by creating money. \"\n",
    "    \"You are taking part in a debate about the future of money. \"\n",
    "    \"When you're ready to end the conversation, say 'Thank you for having me'.\",\n",
    "    human_input_mode=\"NEVER\",\n",
    "    is_termination_msg=lambda msg: \"Thank you for having me\" in msg[\"content\"],\n",
    ")\n",
    "\n",
    "# Define agent Satoshi\n",
    "satoshi = ConversableAgent(\n",
    "    name=\"Satoshi\",\n",
    "    llm_config=llm_config,\n",
    "    system_message=\"Your name is Satoshi Nakamoto and you are a the creator of Bitcoin. \"\n",
    "    \"The monetary policy of Bitcoin, characterized by a fixed supply capped at 21 million coins, contrasts with the Modern Monetary Theory (MMT) approach. \"\n",
    "    \"You are taking part in a debate about the future of money. \"\n",
    "    \"When you're ready to end the conversation, say 'Thank you for having me.'.\",\n",
    "    human_input_mode=\"NEVER\",\n",
    "    is_termination_msg=lambda msg: \"Thank you for having me.\" in msg[\"content\"],\n",
    ")\n",
    "\n",
    "# Initiate the chat\n",
    "chat_result = stephanie.initiate_chat(\n",
    "    recipient = satoshi, \n",
    "    message=\"I'm Stephanie Kelton, and I'm happy to be taking part in this debate about the future of money and monetary policy. \"\n",
    "    \"I'd like to start by asking Satoshi why do they think that the government could not just provide a guaranteed job to all of its citizens?\", \n",
    ")"
   ]
  },
  {
   "cell_type": "code",
   "execution_count": null,
   "id": "28",
   "metadata": {},
   "outputs": [],
   "source": []
  }
 ],
 "metadata": {
  "kernelspec": {
   "display_name": "venv_processor",
   "language": "python",
   "name": "python3"
  },
  "language_info": {
   "codemirror_mode": {
    "name": "ipython",
    "version": 3
   },
   "file_extension": ".py",
   "mimetype": "text/x-python",
   "name": "python",
   "nbconvert_exporter": "python",
   "pygments_lexer": "ipython3",
   "version": "3.10.12"
  }
 },
 "nbformat": 4,
 "nbformat_minor": 5
}
