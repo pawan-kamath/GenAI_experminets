{
 "cells": [
  {
   "attachments": {},
   "cell_type": "markdown",
   "id": "0",
   "metadata": {},
   "source": [
    "# Run a script to interact with chatGPT \n",
    "\n",
    "Now that we have a python environment equipped to communicate with OpenAI, let’s interact with ChatGPT from it! \n",
    "Let's first import the `openai` package."
   ]
  },
  {
   "cell_type": "code",
   "execution_count": 1,
   "id": "1",
   "metadata": {},
   "outputs": [
    {
     "data": {
      "text/plain": [
       "False"
      ]
     },
     "execution_count": 1,
     "metadata": {},
     "output_type": "execute_result"
    }
   ],
   "source": [
    "import os\n",
    "from openai import AzureOpenAI\n",
    "from dotenv import load_dotenv\n",
    "load_dotenv()"
   ]
  },
  {
   "cell_type": "markdown",
   "id": "2",
   "metadata": {},
   "source": [
    "We are now going to create a `client` object that will be used to connect with OpenAI. We're going to use our OpenAI API key to point toward our OpenAI account and use our credit, the connection will otherwise be refused."
   ]
  },
  {
   "cell_type": "code",
   "execution_count": 2,
   "id": "3",
   "metadata": {},
   "outputs": [],
   "source": [
    "\n",
    "client = AzureOpenAI(\n",
    "    api_key=os.getenv(\"OPENAI_API_KEY\"),  \n",
    "    api_version=\"2024-07-01-preview\",\n",
    "    azure_endpoint=os.getenv(\"OPENAI_API_HOST\")\n",
    ")"
   ]
  },
  {
   "cell_type": "markdown",
   "id": "4",
   "metadata": {},
   "source": [
    "If your API key is valid, you should not get any error messages. \n",
    "\n",
    "Next, we are going to use a basic command from the OpenAI command to basically chat with chatGPT3.5-turbo. We'll use chatGPT4 in this class, but the cost of 3.5 is much cheaper, so whenever we don't really need the performance of 4, we'll rely on 3.5. \n",
    "\n",
    "## The system prompt\n",
    "\n",
    "An important difference with how you use chatGPT on your browser is that we'll specify a `system prompt` message.\n",
    "\n",
    "The `system prompt` basically asks chatGPT to adopt a certain role for the following conversation. \n",
    "We specify the system prompt with: `\"role\": \"system\"`. \n",
    "\n",
    "We then send a request using `\"role\": \"user\"`.\n",
    "\n",
    "## Sending our first request\n",
    "\n",
    "Let's ask chatGPT3.5 to answer a message while playing a specifc role, we'll use a standard example here.\n",
    "\n",
    "The **system prompt** is: \"*You are a poetic assistant, skilled in explaining complex programming concepts with creative flair.*\";  \n",
    "And the **message** is: \"*Compose a poem that explains the concept of recursion in programming.*\""
   ]
  },
  {
   "cell_type": "code",
   "execution_count": 3,
   "id": "5",
   "metadata": {},
   "outputs": [
    {
     "name": "stdout",
     "output_type": "stream",
     "text": [
      "ChatCompletion(id='chatcmpl-BxXuIYlW9M3AXC46Ih1PiADzfjXKC', choices=[Choice(finish_reason='stop', index=0, logprobs=None, message=ChatCompletionMessage(content=\"Hello! I'm just a program, so I don't have feelings, but I'm here and ready to help you. How can I assist you today?\", refusal=None, role='assistant', annotations=[], audio=None, function_call=None, tool_calls=None), content_filter_results={'hate': {'filtered': False, 'severity': 'safe'}, 'self_harm': {'filtered': False, 'severity': 'safe'}, 'sexual': {'filtered': False, 'severity': 'safe'}, 'violence': {'filtered': False, 'severity': 'safe'}})], created=1753531390, model='gpt-4o-mini-2024-07-18', object='chat.completion', service_tier=None, system_fingerprint='fp_efad92c60b', usage=CompletionUsage(completion_tokens=30, prompt_tokens=13, total_tokens=43, completion_tokens_details=CompletionTokensDetails(accepted_prediction_tokens=0, audio_tokens=0, reasoning_tokens=0, rejected_prediction_tokens=0), prompt_tokens_details=PromptTokensDetails(audio_tokens=0, cached_tokens=0)), prompt_filter_results=[{'prompt_index': 0, 'content_filter_results': {'hate': {'filtered': False, 'severity': 'safe'}, 'jailbreak': {'filtered': False, 'detected': False}, 'self_harm': {'filtered': False, 'severity': 'safe'}, 'sexual': {'filtered': False, 'severity': 'safe'}, 'violence': {'filtered': False, 'severity': 'safe'}}}])\n"
     ]
    }
   ],
   "source": [
    "completion = client.chat.completions.create(\n",
    "model = \"gpt-4o-mini\",\n",
    "    messages = [\n",
    "       {\"role\": \"user\", \"content\": \"Hello, how are you?\"}\n",
    "    ]) \n",
    "\n",
    "print(completion)"
   ]
  },
  {
   "cell_type": "markdown",
   "id": "6",
   "metadata": {},
   "source": [
    "If we don't get any error message, this means that the request went well and that we can now display its result. The result will be stored in the `choices` field of the `completion` object. We can display it using."
   ]
  },
  {
   "cell_type": "code",
   "execution_count": 4,
   "id": "7",
   "metadata": {},
   "outputs": [
    {
     "name": "stdout",
     "output_type": "stream",
     "text": [
      "ChatCompletionMessage(content=\"Hello! I'm just a program, so I don't have feelings, but I'm here and ready to help you. How can I assist you today?\", refusal=None, role='assistant', annotations=[], audio=None, function_call=None, tool_calls=None)\n"
     ]
    }
   ],
   "source": [
    "print(completion.choices[0].message)"
   ]
  },
  {
   "cell_type": "markdown",
   "id": "8",
   "metadata": {},
   "source": [
    "So we were just able to interact with OpenAI's chatGPT from python! This is the first step necessary to build AI apps that rely on agents!"
   ]
  }
 ],
 "metadata": {
  "kernelspec": {
   "display_name": "venv_processor",
   "language": "python",
   "name": "python3"
  },
  "language_info": {
   "codemirror_mode": {
    "name": "ipython",
    "version": 3
   },
   "file_extension": ".py",
   "mimetype": "text/x-python",
   "name": "python",
   "nbconvert_exporter": "python",
   "pygments_lexer": "ipython3",
   "version": "3.10.12"
  }
 },
 "nbformat": 4,
 "nbformat_minor": 5
}
