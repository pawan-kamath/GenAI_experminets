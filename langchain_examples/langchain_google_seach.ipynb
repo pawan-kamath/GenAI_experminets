{
 "cells": [
  {
   "cell_type": "code",
   "execution_count": null,
   "metadata": {},
   "outputs": [],
   "source": [
    "from langchain_google_community import GoogleSearchAPIWrapper\n",
    "from langchain_core.tools import Tool\n",
    "import os\n",
    "import dotenv\n",
    "dotenv.load_dotenv()\n",
    "\n",
    "import inspect\n",
    "\n",
    "# Get the constructor of GoogleSearchAPIWrapper\n",
    "constructor = inspect.signature(GoogleSearchAPIWrapper)\n",
    "\n",
    "# Print the number of parameters it expects\n",
    "print(f\"Number of parameters expected: {len(constructor.parameters)}\")\n",
    "\n",
    "api_key = os.environ.get(\"GOOGLE_API_KEY\")\n",
    "# Env vars to be set are GOOGLE_API_KEY and GOOGLE_CSE_ID\n",
    "\n",
    "search = GoogleSearchAPIWrapper()\n",
    "\n",
    "# Create a Tool object using the GoogleSearchAPIWrapper instance\n",
    "tool = Tool(\n",
    "    name=\"Google Search\",\n",
    "    description=\"Search Google for recent results.\",\n",
    "    func=search.run,\n",
    ")\n",
    "\n",
    "# Use the tool to perform a search\n",
    "results = tool.run(\"What is the capital of France?\")\n",
    "\n",
    "print(results)"
   ]
  },
  {
   "cell_type": "code",
   "execution_count": null,
   "metadata": {},
   "outputs": [],
   "source": []
  }
 ],
 "metadata": {
  "kernelspec": {
   "display_name": "lc-academy-env",
   "language": "python",
   "name": "python3"
  },
  "language_info": {
   "codemirror_mode": {
    "name": "ipython",
    "version": 3
   },
   "file_extension": ".py",
   "mimetype": "text/x-python",
   "name": "python",
   "nbconvert_exporter": "python",
   "pygments_lexer": "ipython3",
   "version": "3.12.8"
  }
 },
 "nbformat": 4,
 "nbformat_minor": 2
}
