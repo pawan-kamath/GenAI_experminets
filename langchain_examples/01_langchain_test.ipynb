{
 "cells": [
  {
   "cell_type": "code",
   "execution_count": null,
   "metadata": {},
   "outputs": [],
   "source": [
    "import os\n",
    "import dotenv\n",
    "dotenv.load_dotenv()\n",
    "\n",
    "\n",
    "from langchain_openai import AzureChatOpenAI\n",
    "# no need to specify the azure_key, it will be loaded from the environment variable OPENAI_API_KEY exported by dotenv\n",
    "\n",
    "api_key = os.getenv(\"AZURE_OPENAI_API_KEY\")\n",
    "api_version = \"2024-07-01-preview\"\n",
    "azure_endpoint = os.getenv(\"AZURE_OPENAI_HOST\")\n",
    "print(f\"api_key:{api_key}, api_version: {api_version}, azure_endpoint: {azure_endpoint}\")\n",
    "\n",
    "\n",
    "model = AzureChatOpenAI(\n",
    "    azure_endpoint=os.environ[\"OPENAI_API_HOST\"],\n",
    "    api_key=os.environ[\"OPENAI_API_KEY\"],\n",
    "    azure_deployment='gpt-4o',\n",
    "    openai_api_version='2024-11-20',\n",
    ")"
   ]
  },
  {
   "cell_type": "code",
   "execution_count": null,
   "metadata": {},
   "outputs": [],
   "source": [
    "model.invoke(\"Hello World\")"
   ]
  },
  {
   "cell_type": "code",
   "execution_count": null,
   "metadata": {},
   "outputs": [],
   "source": []
  }
 ],
 "metadata": {
  "kernelspec": {
   "display_name": "lc-academy-env",
   "language": "python",
   "name": "python3"
  },
  "language_info": {
   "codemirror_mode": {
    "name": "ipython",
    "version": 3
   },
   "file_extension": ".py",
   "mimetype": "text/x-python",
   "name": "python",
   "nbconvert_exporter": "python",
   "pygments_lexer": "ipython3",
   "version": "3.12.8"
  }
 },
 "nbformat": 4,
 "nbformat_minor": 2
}
