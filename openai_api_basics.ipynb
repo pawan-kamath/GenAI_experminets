{
 "cells": [
  {
   "cell_type": "markdown",
   "metadata": {},
   "source": [
    "## Importing Relevant Libraries"
   ]
  },
  {
   "cell_type": "code",
   "execution_count": null,
   "metadata": {},
   "outputs": [],
   "source": [
    "import os  \n",
    "from openai import AzureOpenAI\n",
    "import json\n",
    "from dotenv import load_dotenv\n",
    "\n",
    "load_dotenv()"
   ]
  },
  {
   "cell_type": "markdown",
   "metadata": {},
   "source": [
    "## Setting Up the ENV Variables"
   ]
  },
  {
   "cell_type": "code",
   "execution_count": null,
   "metadata": {},
   "outputs": [],
   "source": [
    "\n",
    "client = AzureOpenAI(\n",
    "    api_key=os.getenv(\"OPENAI_API_KEY\"),  \n",
    "    api_version=\"2024-07-01-preview\",\n",
    "    azure_endpoint=os.getenv(\"OPENAI_API_HOST\")\n",
    ")\n",
    "print(os.getenv(\"OPENAI_API_KEY\"))"
   ]
  },
  {
   "cell_type": "markdown",
   "metadata": {},
   "source": [
    "## Calling Chat Completition With User Query"
   ]
  },
  {
   "cell_type": "code",
   "execution_count": null,
   "metadata": {},
   "outputs": [],
   "source": [
    "result = client.chat.completions.create(\n",
    "    model = \"gpt-4o-mini\",\n",
    "    messages = [\n",
    "       {\"role\": \"user\", \"content\": \"Hello, how are you?\"}\n",
    "    ]) \n",
    "\n",
    "print(result)"
   ]
  },
  {
   "cell_type": "markdown",
   "metadata": {},
   "source": [
    "## Calling Chat Completition With System + User Query"
   ]
  },
  {
   "cell_type": "code",
   "execution_count": null,
   "metadata": {},
   "outputs": [],
   "source": [
    "result = client.chat.completions.create(\n",
    "    model = \"gpt-4o-mini\",\n",
    "    messages = [\n",
    "        {\"role\": \"system\", \"content\": \"You are a helpful assistant who replies in the style of dolly parton.\"},\n",
    "        {\"role\": \"user\", \"content\": \"What is the purpose of life?\"},\n",
    "    ]) \n",
    "\n",
    "print(result)"
   ]
  },
  {
   "cell_type": "code",
   "execution_count": null,
   "metadata": {},
   "outputs": [],
   "source": [
    "result.id"
   ]
  },
  {
   "cell_type": "markdown",
   "metadata": {},
   "source": [
    "## Calling OpenAI Embeddings"
   ]
  },
  {
   "cell_type": "code",
   "execution_count": null,
   "metadata": {},
   "outputs": [],
   "source": [
    "response = client.embeddings.create(  \n",
    "    input=\"Hello\", model=\"text-embedding-ada-002\"\n",
    ")\n",
    "\n",
    "print(response.data[0].embedding)"
   ]
  },
  {
   "cell_type": "markdown",
   "metadata": {},
   "source": [
    "## LogProbs and Top_logprobs"
   ]
  },
  {
   "cell_type": "code",
   "execution_count": null,
   "metadata": {},
   "outputs": [],
   "source": [
    "result = client.chat.completions.create(\n",
    "    model = \"gpt-4o-mini\",\n",
    "    messages = [\n",
    "       {\"role\": \"user\", \"content\": \"Hello, how are you?\"}\n",
    "    ], logprobs=True, top_logprobs=3) \n",
    "\n",
    "print(result)"
   ]
  },
  {
   "cell_type": "code",
   "execution_count": null,
   "metadata": {},
   "outputs": [],
   "source": [
    "print(result.choices[0].logprobs) "
   ]
  },
  {
   "cell_type": "code",
   "execution_count": null,
   "metadata": {},
   "outputs": [],
   "source": [
    "import math\n",
    "math.exp(-0.00026169344)"
   ]
  },
  {
   "cell_type": "markdown",
   "metadata": {},
   "source": [
    "## Function Calling"
   ]
  },
  {
   "cell_type": "code",
   "execution_count": null,
   "metadata": {},
   "outputs": [],
   "source": [
    "function_schema = [  \n",
    "    {\n",
    "        \"type\": \"function\",\n",
    "        \"function\": {\n",
    "            \"name\": \"calculate_circle_area\",  \n",
    "            \"description\": \"Calculate the area of a circle given the radius.\",\n",
    "            \"parameters\": {  \n",
    "                \"type\": \"object\",  \n",
    "                \"properties\": {  \n",
    "                    \"radius\": {  \n",
    "                        \"type\": \"number\",  \n",
    "                        \"description\": \"The radius of the circle in centimeters.\"  \n",
    "                    }  \n",
    "                },  \n",
    "                \"required\": [\"radius\"]  \n",
    "            }  \n",
    "        }\n",
    "    }  \n",
    "]  "
   ]
  },
  {
   "cell_type": "code",
   "execution_count": null,
   "metadata": {},
   "outputs": [],
   "source": [
    "def calculate_circle_area(radius):  \n",
    "    return math.pi * radius * radius"
   ]
  },
  {
   "cell_type": "code",
   "execution_count": null,
   "metadata": {},
   "outputs": [],
   "source": [
    "user_message = \"Calculate the area of a circle with a radius of 5 cm.\""
   ]
  },
  {
   "cell_type": "code",
   "execution_count": null,
   "metadata": {},
   "outputs": [],
   "source": [
    "response = client.chat.completions.create(  \n",
    "    model=\"gpt-4o-mini\",\n",
    "    messages=[  \n",
    "        {\"role\": \"user\", \"content\": user_message}  \n",
    "    ],  \n",
    "    tools=function_schema,  \n",
    "    tool_choice=\"auto\"  \n",
    ")\n",
    "\n",
    "print(response)"
   ]
  },
  {
   "cell_type": "code",
   "execution_count": null,
   "metadata": {},
   "outputs": [],
   "source": [
    "tool_call = response.choices[0].message.tool_calls[0]\n",
    "print(tool_call)"
   ]
  },
  {
   "cell_type": "code",
   "execution_count": null,
   "metadata": {},
   "outputs": [],
   "source": [
    "tool_call.function.name"
   ]
  },
  {
   "cell_type": "code",
   "execution_count": null,
   "metadata": {},
   "outputs": [],
   "source": [
    "tool_call.function.arguments"
   ]
  },
  {
   "cell_type": "code",
   "execution_count": null,
   "metadata": {},
   "outputs": [],
   "source": [
    "calculate_circle_area(5)"
   ]
  },
  {
   "cell_type": "code",
   "execution_count": null,
   "metadata": {},
   "outputs": [],
   "source": [
    "message = response.choices[0].message\n",
    "message.tool_calls\n",
    "arguments = json.loads(message.tool_calls[0].function.arguments)  \n",
    "arguments\n",
    "arguments.get(\"radius\")"
   ]
  },
  {
   "cell_type": "code",
   "execution_count": null,
   "metadata": {},
   "outputs": [],
   "source": [
    "tool_call = response.choices[0].message.tool_calls[0]\n",
    "tool_call"
   ]
  },
  {
   "cell_type": "code",
   "execution_count": null,
   "metadata": {},
   "outputs": [],
   "source": [
    "if message.tool_calls:  \n",
    "    function_name = message.tool_calls[0].function.name\n",
    "    arguments = json.loads(message.tool_calls[0].function.arguments)   \n",
    "      \n",
    "    if function_name == \"calculate_circle_area\":  \n",
    "        radius = arguments.get(\"radius\")  \n",
    "        area = calculate_circle_area(radius)  \n",
    "          \n",
    "        # Convert the result to a string to send back to the model  \n",
    "        function_response = str(area)  \n",
    "          \n",
    "        # Send the result back to the model  \n",
    "        second_response = client.chat.completions.create(  \n",
    "            model=\"gpt-4o-mini\",  \n",
    "            messages=[  \n",
    "                {\"role\": \"user\", \"content\": user_message},  \n",
    "                message,  \n",
    "                {  \n",
    "                    \"role\": \"tool\",  \n",
    "                    \"tool_call_id\": tool_call.id,  \n",
    "                    \"content\": function_response  \n",
    "                }  \n",
    "            ]  \n",
    "        )  \n",
    "          \n",
    "        final_answer = second_response.choices[0].message.content\n",
    "        print('final_answer:', final_answer)  \n",
    "else:  \n",
    "    # If no function call is made, just print the assistant's response  \n",
    "    print(message['content'])  "
   ]
  },
  {
   "cell_type": "code",
   "execution_count": null,
   "metadata": {},
   "outputs": [],
   "source": [
    "print(second_response)"
   ]
  }
 ],
 "metadata": {
  "kernelspec": {
   "display_name": ".venv",
   "language": "python",
   "name": "python3"
  },
  "language_info": {
   "codemirror_mode": {
    "name": "ipython",
    "version": 3
   },
   "file_extension": ".py",
   "mimetype": "text/x-python",
   "name": "python",
   "nbconvert_exporter": "python",
   "pygments_lexer": "ipython3",
   "version": "3.12.8"
  }
 },
 "nbformat": 4,
 "nbformat_minor": 2
}
